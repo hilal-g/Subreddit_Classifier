{
 "cells": [
  {
   "cell_type": "code",
   "execution_count": 61,
   "id": "08e05554",
   "metadata": {},
   "outputs": [],
   "source": [
    "import pprint\n",
    "import time\n",
    "import torch \n",
    "from torch import nn\n",
    "from torch.utils.data import DataLoader\n",
    "from torch.utils.data.dataset import random_split\n",
    "from torchtext.datasets import AG_NEWS \n",
    "from torchtext.data.functional import to_map_style_dataset\n",
    "from torchtext.data.utils import get_tokenizer \n",
    "from torchtext.vocab import build_vocab_from_iterator"
   ]
  },
  {
   "cell_type": "code",
   "execution_count": 62,
   "id": "581a8bd1",
   "metadata": {},
   "outputs": [],
   "source": [
    "train_iter = AG_NEWS(split='train')"
   ]
  },
  {
   "cell_type": "code",
   "execution_count": 63,
   "id": "d033d25e",
   "metadata": {},
   "outputs": [],
   "source": [
    "tokenizer = get_tokenizer('basic_english')\n",
    "train_iter = AG_NEWS(split='train')"
   ]
  },
  {
   "cell_type": "code",
   "execution_count": 64,
   "id": "b12c4866",
   "metadata": {},
   "outputs": [],
   "source": [
    "def yield_tokens(data_iter):\n",
    "    for _, text in data_iter:\n",
    "        yield tokenizer(text)"
   ]
  },
  {
   "cell_type": "code",
   "execution_count": 65,
   "id": "012c6897",
   "metadata": {},
   "outputs": [],
   "source": [
    "vocab = build_vocab_from_iterator(yield_tokens(train_iter), specials=[\"<unk>\"])\n",
    "vocab.set_default_index(vocab[\"<unk>\"])"
   ]
  },
  {
   "cell_type": "code",
   "execution_count": 66,
   "id": "16d18b98",
   "metadata": {},
   "outputs": [
    {
     "name": "stdout",
     "output_type": "stream",
     "text": [
      "[475, 21, 30, 5297]\n"
     ]
    }
   ],
   "source": [
    "print(vocab([\"here\", \"is\", \"an\", \"example\"]))"
   ]
  },
  {
   "cell_type": "code",
   "execution_count": 67,
   "id": "146ef7ae",
   "metadata": {},
   "outputs": [],
   "source": [
    "text_pipeline = lambda x: vocab(tokenizer(x))\n",
    "label_pipeline = lambda x: int(x) - 1"
   ]
  },
  {
   "cell_type": "code",
   "execution_count": 68,
   "id": "91aedac5",
   "metadata": {},
   "outputs": [],
   "source": [
    "device = torch.device(\"cuda\" if torch.cuda.is_available() else \"cpu\")\n",
    "\n",
    "def collate_batch(batch):\n",
    "    label_list, text_list, offsets = [], [], [0]\n",
    "    for (_label, _text) in batch:\n",
    "        label_list.append(label_pipeline(_label))\n",
    "        processed_text = torch.tensor(text_pipeline(_text), dtype=torch.int64)\n",
    "        text_list.append(processed_text)\n",
    "        offsets.append(processed_text.size(0))\n",
    "    label_list = torch.tensor(label_list, dtype=torch.int64)\n",
    "    offsets = torch.tensor(offsets[:-1]).cumsum(dim=0)\n",
    "    text_list = torch.cat(text_list)\n",
    "    return label_list.to(device), text_list.to(device), offsets.to(device)\n",
    "\n",
    "train_iter = AG_NEWS(split='train')\n",
    "dataloader = DataLoader(train_iter, batch_size=8, shuffle=False, collate_fn=collate_batch)"
   ]
  },
  {
   "cell_type": "code",
   "execution_count": 9,
   "id": "dc04cd75",
   "metadata": {},
   "outputs": [],
   "source": [
    "class TextClassificationModel(nn.Module):\n",
    "    \n",
    "    def __init__(self, vocab_size, embed_dim, num_classes):\n",
    "        super(TextClassificationModel, self).__init__()\n",
    "        self.embedding = nn.EmbeddingBag(vocab_size, embed_dim, sparse=True)\n",
    "        self.fc = nn.Linear(embed_dim, num_classes)\n",
    "        self.init_weights()\n",
    "        \n",
    "    def init_weights(self):\n",
    "        initrange = 0.5 \n",
    "        self.embedding.weight.data.uniform_(-initrange, initrange)\n",
    "        self.fc.weight.data.uniform_(-initrange, initrange)\n",
    "        self.fc.bias.data.zero_()\n",
    "        \n",
    "    def forward(self, text, offsets):\n",
    "        embedded = self.embedding(text, offsets)\n",
    "        return self.fc(embedded)"
   ]
  },
  {
   "cell_type": "code",
   "execution_count": 10,
   "id": "eedfec87",
   "metadata": {},
   "outputs": [],
   "source": [
    "train_iter = AG_NEWS(split='train')\n",
    "num_class = len(set([label for (label, text) in train_iter]))\n",
    "vocab_size = len(vocab)\n",
    "emsize = 64\n",
    "model = TextClassificationModel(vocab_size, emsize, num_class).to(device)"
   ]
  },
  {
   "cell_type": "code",
   "execution_count": 31,
   "id": "d27331ae",
   "metadata": {},
   "outputs": [],
   "source": [
    "def train(dataloader):\n",
    "    model.train()\n",
    "    total_acc, total_count = 0, 0\n",
    "    log_interval = 500\n",
    "    start_time = time.time()\n",
    "    \n",
    "    for idx, (label, text, offsets) in enumerate(dataloader):\n",
    "        optimizer.zero_grad()\n",
    "        predicted_label = model(text, offsets)\n",
    "        loss = criterion(predicted_label, label)\n",
    "        loss.backward()\n",
    "        torch.nn.utils.clip_grad_norm_(model.parameters(), 0.1)\n",
    "        optimizer.step()\n",
    "        total_acc += (predicted_label.argmax(1) == label).sum().item()\n",
    "        total_count += label.size(0)\n",
    "        if idx % log_interval == 0 and idx > 0:\n",
    "            elased = time.time() - start_time \n",
    "            print('| epoch {:3d} | {:5d}/{:5d} batches '\n",
    "                  '| accuracy {:8.3f}'.format(epoch, idx, len(dataloader), total_acc/total_count))\n",
    "            total_acc, total_count = 0, 0\n",
    "            start_time = time.time()\n",
    "            \n",
    "def evaluate(dataloader):\n",
    "    model.eval()\n",
    "    total_acc, total_count = 0, 0 \n",
    "    \n",
    "    with torch.no_grad():\n",
    "        for idx, (label, text, offsets) in enumerate(dataloader):\n",
    "            predicted_label = model(text, offsets)\n",
    "            loss = criterion(predicted_label, label)\n",
    "            total_acc += (predicted_label.argmax(1) == label).sum().item()\n",
    "            total_count += label.size(0)\n",
    "    return total_acc/total_count"
   ]
  },
  {
   "cell_type": "code",
   "execution_count": 17,
   "id": "4cdb576c",
   "metadata": {},
   "outputs": [],
   "source": [
    "EPOCHS = 10 \n",
    "LR = 5 \n",
    "BATCH_SIZE = 64"
   ]
  },
  {
   "cell_type": "code",
   "execution_count": 32,
   "id": "50a0e4df",
   "metadata": {},
   "outputs": [
    {
     "name": "stdout",
     "output_type": "stream",
     "text": [
      "| epoch   1 |   500/ 1688 batches | accuracy    0.909\n",
      "| epoch   1 |  1000/ 1688 batches | accuracy    0.910\n",
      "| epoch   1 |  1500/ 1688 batches | accuracy    0.911\n",
      "-----------------------------------------------------------\n",
      "| end of epoch   1 | time: 14.63s | valid accuracy    0.913 \n",
      "-----------------------------------------------------------\n",
      "| epoch   2 |   500/ 1688 batches | accuracy    0.922\n",
      "| epoch   2 |  1000/ 1688 batches | accuracy    0.922\n",
      "| epoch   2 |  1500/ 1688 batches | accuracy    0.920\n",
      "-----------------------------------------------------------\n",
      "| end of epoch   2 | time: 13.91s | valid accuracy    0.914 \n",
      "-----------------------------------------------------------\n",
      "| epoch   3 |   500/ 1688 batches | accuracy    0.928\n",
      "| epoch   3 |  1000/ 1688 batches | accuracy    0.929\n",
      "| epoch   3 |  1500/ 1688 batches | accuracy    0.929\n",
      "-----------------------------------------------------------\n",
      "| end of epoch   3 | time: 13.40s | valid accuracy    0.912 \n",
      "-----------------------------------------------------------\n",
      "| epoch   4 |   500/ 1688 batches | accuracy    0.943\n",
      "| epoch   4 |  1000/ 1688 batches | accuracy    0.942\n",
      "| epoch   4 |  1500/ 1688 batches | accuracy    0.941\n",
      "-----------------------------------------------------------\n",
      "| end of epoch   4 | time: 14.66s | valid accuracy    0.918 \n",
      "-----------------------------------------------------------\n",
      "| epoch   5 |   500/ 1688 batches | accuracy    0.943\n",
      "| epoch   5 |  1000/ 1688 batches | accuracy    0.943\n",
      "| epoch   5 |  1500/ 1688 batches | accuracy    0.943\n",
      "-----------------------------------------------------------\n",
      "| end of epoch   5 | time: 14.06s | valid accuracy    0.917 \n",
      "-----------------------------------------------------------\n",
      "| epoch   6 |   500/ 1688 batches | accuracy    0.945\n",
      "| epoch   6 |  1000/ 1688 batches | accuracy    0.946\n",
      "| epoch   6 |  1500/ 1688 batches | accuracy    0.944\n",
      "-----------------------------------------------------------\n",
      "| end of epoch   6 | time: 13.88s | valid accuracy    0.919 \n",
      "-----------------------------------------------------------\n",
      "| epoch   7 |   500/ 1688 batches | accuracy    0.946\n",
      "| epoch   7 |  1000/ 1688 batches | accuracy    0.945\n",
      "| epoch   7 |  1500/ 1688 batches | accuracy    0.943\n",
      "-----------------------------------------------------------\n",
      "| end of epoch   7 | time: 14.59s | valid accuracy    0.918 \n",
      "-----------------------------------------------------------\n",
      "| epoch   8 |   500/ 1688 batches | accuracy    0.943\n",
      "| epoch   8 |  1000/ 1688 batches | accuracy    0.945\n",
      "| epoch   8 |  1500/ 1688 batches | accuracy    0.945\n",
      "-----------------------------------------------------------\n",
      "| end of epoch   8 | time: 17.51s | valid accuracy    0.918 \n",
      "-----------------------------------------------------------\n",
      "| epoch   9 |   500/ 1688 batches | accuracy    0.946\n",
      "| epoch   9 |  1000/ 1688 batches | accuracy    0.945\n",
      "| epoch   9 |  1500/ 1688 batches | accuracy    0.944\n",
      "-----------------------------------------------------------\n",
      "| end of epoch   9 | time: 15.72s | valid accuracy    0.918 \n",
      "-----------------------------------------------------------\n",
      "| epoch  10 |   500/ 1688 batches | accuracy    0.944\n",
      "| epoch  10 |  1000/ 1688 batches | accuracy    0.946\n",
      "| epoch  10 |  1500/ 1688 batches | accuracy    0.946\n",
      "-----------------------------------------------------------\n",
      "| end of epoch  10 | time: 15.18s | valid accuracy    0.918 \n",
      "-----------------------------------------------------------\n"
     ]
    }
   ],
   "source": [
    "criterion = torch.nn.CrossEntropyLoss()\n",
    "optimizer = torch.optim.SGD(model.parameters(), lr=LR)\n",
    "scheduler = torch.optim.lr_scheduler.StepLR(optimizer, 1.0, gamma=0.1)\n",
    "total_accu = None \n",
    "train_iter, test_iter = AG_NEWS()\n",
    "train_dataset = to_map_style_dataset(train_iter)\n",
    "test_dataset = to_map_style_dataset(test_iter)\n",
    "num_train = int(len(train_dataset) * 0.90)\n",
    "split_train_, split_valid_ = \\\n",
    "    random_split(train_dataset, [num_train, len(train_dataset) - num_train])\n",
    "train_dataloader = DataLoader(split_train_, batch_size=BATCH_SIZE,\n",
    "                             shuffle=True, collate_fn=collate_batch)\n",
    "valid_dataloader = DataLoader(split_valid_, batch_size=BATCH_SIZE,\n",
    "                             shuffle=True, collate_fn=collate_batch)\n",
    "test_dataloader = DataLoader(test_dataset, batch_size=BATCH_SIZE,\n",
    "                            shuffle=True, collate_fn=collate_batch)\n",
    "\n",
    "for epoch in range(1, EPOCHS + 1):\n",
    "    epoch_start_time = time.time()\n",
    "    train(train_dataloader)\n",
    "    accu_val = evaluate(valid_dataloader)\n",
    "    if total_accu is not None and total_accu > accu_val:\n",
    "        scheduler.step()\n",
    "    else:\n",
    "        total_accu = accu_val \n",
    "    print('-' * 59)\n",
    "    print('| end of epoch {:3d} | time: {:5.2f}s | '\n",
    "          'valid accuracy {:8.3f} '.format(epoch,\n",
    "                                           time.time() - epoch_start_time,\n",
    "                                           accu_val))\n",
    "    print('-' * 59)"
   ]
  },
  {
   "cell_type": "code",
   "execution_count": 36,
   "id": "d7396bf8",
   "metadata": {},
   "outputs": [
    {
     "name": "stdout",
     "output_type": "stream",
     "text": [
      "Checking the results of test dataset.\n",
      "Test accuracy is: 0.907\n"
     ]
    }
   ],
   "source": [
    "print('Checking the results of test dataset.')\n",
    "accu_test = evaluate(test_dataloader)\n",
    "print('Test accuracy is: {:1.3f}'.format(accu_test))"
   ]
  },
  {
   "cell_type": "code",
   "execution_count": 45,
   "id": "39a9880f",
   "metadata": {},
   "outputs": [
    {
     "name": "stdout",
     "output_type": "stream",
     "text": [
      "This is a Sci/Tech news\n"
     ]
    }
   ],
   "source": [
    "ag_news_label = {1: \"World\", 2: \"Sports\", 3: \"Business\", 4: \"Sci/Tech\"}\n",
    "\n",
    "def predict(text, text_pipeline):\n",
    "    with torch.no_grad():\n",
    "        text = torch.tensor(text_pipeline(text))\n",
    "        output = model(text, torch.tensor([0]))\n",
    "        return output.argmax(1).item() + 1\n",
    "\n",
    "ex_text_str = 'It means five regional capitals have fallen to the militants since Friday, \\\n",
    "    with Kunduz being their most important gain this year. \\\n",
    "    The city is well connected to other areas, including the capital Kabul. \\\n",
    "    Violence has escalated across Afghanistan after US and other international forces \\\n",
    "    began to withdraw their troops from the country, following 20 years of military operations. \\\n",
    "    Taliban militants have made rapid advances in recent weeks. \\\n",
    "    Having captured large swathes of the countryside, they are now targeting key towns and cities.'\n",
    "\n",
    "ex_text_str = 'All this, experts say, underscores the need to track down and plug \\\n",
    "    any leaks or sources that can be controlled. \\\n",
    "    Tracing emissions to their source is no easy task, however. \\\n",
    "    Releases are often intermittent and easy to miss. \\\n",
    "    Ground-based sensors can detect leaks in local areas, but their coverage is limited. \\\n",
    "    Airplane and drone surveys are time-intensive and costly, \\\n",
    "    and air access is restricted over much of the world.'\n",
    "\n",
    "model = model.to(\"cpu\")\n",
    "\n",
    "print(\"This is a %s news\" %ag_news_label[predict(ex_text_str, text_pipeline)])"
   ]
  },
  {
   "cell_type": "code",
   "execution_count": null,
   "id": "e8a5e80b",
   "metadata": {},
   "outputs": [],
   "source": []
  }
 ],
 "metadata": {
  "kernelspec": {
   "display_name": "Python 3",
   "language": "python",
   "name": "python3"
  },
  "language_info": {
   "codemirror_mode": {
    "name": "ipython",
    "version": 3
   },
   "file_extension": ".py",
   "mimetype": "text/x-python",
   "name": "python",
   "nbconvert_exporter": "python",
   "pygments_lexer": "ipython3",
   "version": "3.6.13"
  }
 },
 "nbformat": 4,
 "nbformat_minor": 5
}
