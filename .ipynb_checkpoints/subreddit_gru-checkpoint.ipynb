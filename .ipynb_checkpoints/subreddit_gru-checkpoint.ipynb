{
 "cells": [
  {
   "cell_type": "code",
   "execution_count": 1,
   "id": "6cd9d782",
   "metadata": {},
   "outputs": [],
   "source": [
    "import matplotlib.pyplot as plt\n",
    "import pandas as pd\n",
    "import pprint\n",
    "import random\n",
    "import seaborn as sns\n",
    "import torch\n",
    "import torch.nn as nn\n",
    "from sklearn.metrics import accuracy_score, classification_report, confusion_matrix\n",
    "from sklearn.model_selection import train_test_split\n",
    "from torch.nn.utils.rnn import pack_padded_sequence, pad_packed_sequence\n",
    "import torch.optim as optim\n",
    "from torchtext.legacy.data import Field, TabularDataset, BucketIterator\n",
    "\n",
    "from fetch_db import reddit_data"
   ]
  },
  {
   "cell_type": "code",
   "execution_count": 2,
   "id": "6244b3df",
   "metadata": {},
   "outputs": [],
   "source": [
    "# First\n",
    "\n",
    "subreddit_labels = {1: \"askhistorians\", 2: \"writingprompts\", \n",
    "                    3: \"television\", 4: \"explainlikeimfive\", \n",
    "                    5: \"lifeprotips\", 6: \"relationship_advice\",\n",
    "                    7: \"science\", 8: \"books\",\n",
    "                    9: \"nba\", 10: \"philosophy\"}"
   ]
  },
  {
   "cell_type": "code",
   "execution_count": 3,
   "id": "e7addb14",
   "metadata": {},
   "outputs": [],
   "source": [
    "# Second \n",
    "\n",
    "train_test_ratio = 0.90\n",
    "train_valid_ratio = 0.90"
   ]
  },
  {
   "cell_type": "code",
   "execution_count": 4,
   "id": "e5b5dd99",
   "metadata": {},
   "outputs": [],
   "source": [
    "# Third \n",
    "\n",
    "mod_data = []\n",
    "for i in reddit_data:\n",
    "    title_index = list(subreddit_labels.keys())[list(subreddit_labels.values()).index(i[2])]\n",
    "    mod_data.append((title_index, i[1]))\n",
    "    \n",
    "random.shuffle(mod_data)"
   ]
  },
  {
   "cell_type": "code",
   "execution_count": 5,
   "id": "0e662b9e",
   "metadata": {},
   "outputs": [],
   "source": [
    "# Fourth\n",
    "\n",
    "df_data = {\"label\": [], \"text\": []}\n",
    "\n",
    "for i in mod_data:\n",
    "    df_data[\"label\"].append(i[0])\n",
    "    df_data[\"text\"].append(i[1])\n",
    "    \n",
    "df_data = pd.DataFrame(df_data)"
   ]
  },
  {
   "cell_type": "code",
   "execution_count": 6,
   "id": "f0b3a14e",
   "metadata": {},
   "outputs": [],
   "source": [
    "# Fifth \n",
    "\n",
    "df_1 = df_data[df_data['label'] == 1]\n",
    "df_2 = df_data[df_data['label'] == 2]\n",
    "df_3 = df_data[df_data['label'] == 3]\n",
    "df_4 = df_data[df_data['label'] == 4]\n",
    "df_5 = df_data[df_data['label'] == 5]\n",
    "df_6 = df_data[df_data['label'] == 6]\n",
    "df_7 = df_data[df_data['label'] == 7]\n",
    "df_8 = df_data[df_data['label'] == 8]\n",
    "df_9 = df_data[df_data['label'] == 9]\n",
    "df_10 = df_data[df_data['label'] == 10]\n",
    "\n",
    "df_1_full_train, df_1_test = train_test_split(df_1, train_size = train_test_ratio, random_state = 1)\n",
    "df_2_full_train, df_2_test = train_test_split(df_2, train_size = train_test_ratio, random_state = 1)\n",
    "df_3_full_train, df_3_test = train_test_split(df_3, train_size = train_test_ratio, random_state = 1)\n",
    "df_4_full_train, df_4_test = train_test_split(df_4, train_size = train_test_ratio, random_state = 1)\n",
    "df_5_full_train, df_5_test = train_test_split(df_5, train_size = train_test_ratio, random_state = 1)\n",
    "df_6_full_train, df_6_test = train_test_split(df_6, train_size = train_test_ratio, random_state = 1)\n",
    "df_7_full_train, df_7_test = train_test_split(df_7, train_size = train_test_ratio, random_state = 1)\n",
    "df_8_full_train, df_8_test = train_test_split(df_8, train_size = train_test_ratio, random_state = 1)\n",
    "df_9_full_train, df_9_test = train_test_split(df_9, train_size = train_test_ratio, random_state = 1)\n",
    "df_10_full_train, df_10_test = train_test_split(df_10, train_size = train_test_ratio, random_state = 1)\n",
    "\n",
    "df_1_train, df_1_valid = train_test_split(df_1_full_train, train_size = train_valid_ratio, random_state = 1)\n",
    "df_2_train, df_2_valid = train_test_split(df_2_full_train, train_size = train_valid_ratio, random_state = 1)\n",
    "df_3_train, df_3_valid = train_test_split(df_3_full_train, train_size = train_valid_ratio, random_state = 1)\n",
    "df_4_train, df_4_valid = train_test_split(df_4_full_train, train_size = train_valid_ratio, random_state = 1)\n",
    "df_5_train, df_5_valid = train_test_split(df_5_full_train, train_size = train_valid_ratio, random_state = 1)\n",
    "df_6_train, df_6_valid = train_test_split(df_6_full_train, train_size = train_valid_ratio, random_state = 1)\n",
    "df_7_train, df_7_valid = train_test_split(df_7_full_train, train_size = train_valid_ratio, random_state = 1)\n",
    "df_8_train, df_8_valid = train_test_split(df_8_full_train, train_size = train_valid_ratio, random_state = 1)\n",
    "df_9_train, df_9_valid = train_test_split(df_9_full_train, train_size = train_valid_ratio, random_state = 1)\n",
    "df_10_train, df_10_valid = train_test_split(df_10_full_train, train_size = train_valid_ratio, random_state = 1)"
   ]
  },
  {
   "cell_type": "code",
   "execution_count": 7,
   "id": "1fdaf476",
   "metadata": {},
   "outputs": [],
   "source": [
    "# Sixth \n",
    "\n",
    "df_train = pd.concat([df_1_train, df_2_train,\n",
    "                      df_3_train, df_4_train,\n",
    "                      df_5_train, df_6_train,\n",
    "                      df_7_train, df_8_train,\n",
    "                      df_9_train, df_10_train,], ignore_index=True, sort=False)\n",
    "df_valid = pd.concat([df_1_valid, df_2_valid,\n",
    "                      df_3_valid, df_4_valid,\n",
    "                      df_5_valid, df_6_valid,\n",
    "                      df_7_valid, df_8_valid,\n",
    "                      df_9_valid, df_10_valid,], ignore_index=True, sort=False)\n",
    "df_test = pd.concat([df_1_test, df_2_test,\n",
    "                     df_3_test, df_4_test,\n",
    "                     df_5_test, df_6_test,\n",
    "                     df_7_test, df_8_test,\n",
    "                     df_9_test, df_10_test,], ignore_index=True, sort=False)"
   ]
  },
  {
   "cell_type": "code",
   "execution_count": 8,
   "id": "ece54703",
   "metadata": {},
   "outputs": [],
   "source": [
    "# Seventh \n",
    "\n",
    "destination_folder = 'Data'\n",
    "\n",
    "df_train.to_csv(destination_folder + '/train.csv', index=False)\n",
    "df_valid.to_csv(destination_folder + '/valid.csv', index=False)\n",
    "df_test.to_csv(destination_folder + '/test.csv', index=False)"
   ]
  },
  {
   "cell_type": "code",
   "execution_count": 9,
   "id": "ca5b3a87",
   "metadata": {},
   "outputs": [
    {
     "name": "stderr",
     "output_type": "stream",
     "text": [
      "/Users/Hilal/opt/anaconda3/envs/chatbot/lib/python3.6/site-packages/torchtext/data/utils.py:123: UserWarning: Spacy model \"en\" could not be loaded, trying \"en_core_web_sm\" instead\n",
      "  warnings.warn(f'Spacy model \"{language}\" could not be loaded, trying \"{OLD_MODEL_SHORTCUTS[language]}\" instead')\n"
     ]
    }
   ],
   "source": [
    "# Eighth \n",
    "\n",
    "device = torch.device(\"cuda\" if torch.cuda.is_available() else \"cpu\")\n",
    "\n",
    "label_field = Field(sequential=False, use_vocab=False, batch_first=True, dtype=torch.float)\n",
    "text_field = Field(tokenize='spacy', lower=True, include_lengths=True, batch_first=True)\n",
    "fields = [('label', label_field), ('text', text_field)]"
   ]
  },
  {
   "cell_type": "code",
   "execution_count": 10,
   "id": "2698b4a2",
   "metadata": {},
   "outputs": [],
   "source": [
    "# Ninth \n",
    "\n",
    "train, valid, test = TabularDataset.splits(path=destination_folder, train='train.csv', validation='valid.csv', test='test.csv',\n",
    "                                           format='CSV', fields=fields, skip_header=True)\n",
    "\n",
    "train_iter = BucketIterator(train, batch_size=32, sort_key=lambda x: len(x.text),\n",
    "                            device=device, sort=True, sort_within_batch=True)\n",
    "valid_iter = BucketIterator(valid, batch_size=32, sort_key=lambda x: len(x.text),\n",
    "                            device=device, sort=True, sort_within_batch=True)\n",
    "test_iter = BucketIterator(test, batch_size=32, sort_key=lambda x: len(x.text),\n",
    "                            device=device, sort=True, sort_within_batch=True)\n",
    "\n",
    "text_field.build_vocab(train, min_freq=3)"
   ]
  },
  {
   "cell_type": "code",
   "execution_count": 11,
   "id": "f30017b3",
   "metadata": {},
   "outputs": [],
   "source": [
    "class GRU(nn.Module):\n",
    "\n",
    "    def __init__(self, dimension=128):\n",
    "        super(GRU, self).__init__()\n",
    "\n",
    "        self.embedding = nn.Embedding(len(text_field.vocab), 300)\n",
    "        self.dimension = dimension\n",
    "        self.gru = nn.GRU(input_size=300,\n",
    "                            hidden_size=dimension,\n",
    "                            num_layers=1,\n",
    "                            batch_first=True,\n",
    "                            bidirectional=True)\n",
    "        self.drop = nn.Dropout(p=0.5)\n",
    "\n",
    "        self.fc = nn.Linear(2*dimension, 1)\n",
    "\n",
    "    def forward(self, text, text_len):\n",
    "\n",
    "        text_emb = self.embedding(text)\n",
    "\n",
    "        packed_input = pack_padded_sequence(text_emb, text_len, batch_first=True, enforce_sorted=False)\n",
    "        packed_output, _ = self.gru(packed_input)\n",
    "        output, _ = pad_packed_sequence(packed_output, batch_first=True)\n",
    "\n",
    "        out_forward = output[range(len(output)), text_len - 1, :self.dimension]\n",
    "        out_reverse = output[:, 0, self.dimension:]\n",
    "        out_reduced = torch.cat((out_forward, out_reverse), 1)\n",
    "        text_fea = self.drop(out_reduced)\n",
    "\n",
    "        text_fea = self.fc(text_fea)\n",
    "        text_fea = torch.squeeze(text_fea, 1)\n",
    "        text_out = torch.sigmoid(text_fea)\n",
    "\n",
    "        return text_out"
   ]
  },
  {
   "cell_type": "code",
   "execution_count": 12,
   "id": "670adcbf",
   "metadata": {},
   "outputs": [],
   "source": [
    "# Save and Load Functions\n",
    "\n",
    "def save_checkpoint(save_path, model, optimizer, valid_loss):\n",
    "\n",
    "    if save_path == None:\n",
    "        return\n",
    "    \n",
    "    state_dict = {'model_state_dict': model.state_dict(),\n",
    "                  'optimizer_state_dict': optimizer.state_dict(),\n",
    "                  'valid_loss': valid_loss}\n",
    "    \n",
    "    torch.save(state_dict, save_path)\n",
    "    print(f'Model saved to ==> {save_path}')\n",
    "\n",
    "\n",
    "def load_checkpoint(load_path, model, optimizer):\n",
    "\n",
    "    if load_path==None:\n",
    "        return\n",
    "    \n",
    "    state_dict = torch.load(load_path, map_location=device)\n",
    "    print(f'Model loaded from <== {load_path}')\n",
    "    \n",
    "    model.load_state_dict(state_dict['model_state_dict'])\n",
    "    optimizer.load_state_dict(state_dict['optimizer_state_dict'])\n",
    "    \n",
    "    return state_dict['valid_loss']\n",
    "\n",
    "\n",
    "def save_metrics(save_path, train_loss_list, valid_loss_list, global_steps_list):\n",
    "\n",
    "    if save_path == None:\n",
    "        return\n",
    "    \n",
    "    state_dict = {'train_loss_list': train_loss_list,\n",
    "                  'valid_loss_list': valid_loss_list,\n",
    "                  'global_steps_list': global_steps_list}\n",
    "    \n",
    "    torch.save(state_dict, save_path)\n",
    "    print(f'Model saved to ==> {save_path}')\n",
    "\n",
    "\n",
    "def load_metrics(load_path):\n",
    "\n",
    "    if load_path==None:\n",
    "        return\n",
    "    \n",
    "    state_dict = torch.load(load_path, map_location=device)\n",
    "    print(f'Model loaded from <== {load_path}')\n",
    "    \n",
    "    return state_dict['train_loss_list'], state_dict['valid_loss_list'], state_dict['global_steps_list']"
   ]
  },
  {
   "cell_type": "code",
   "execution_count": 13,
   "id": "3bdf63b3",
   "metadata": {},
   "outputs": [
    {
     "name": "stdout",
     "output_type": "stream",
     "text": [
      "Epoch [1/10], Step [13/260], Train Loss: -12.6610, Valid Loss: -28.0650\n",
      "Model saved to ==> Data/model.pt\n",
      "Model saved to ==> Data/metrics.pt\n",
      "Epoch [1/10], Step [26/260], Train Loss: -34.8768, Valid Loss: -56.1825\n",
      "Model saved to ==> Data/model.pt\n",
      "Model saved to ==> Data/metrics.pt\n",
      "Epoch [2/10], Step [39/260], Train Loss: -102.9947, Valid Loss: -382.4928\n",
      "Model saved to ==> Data/model.pt\n",
      "Model saved to ==> Data/metrics.pt\n",
      "Epoch [2/10], Step [52/260], Train Loss: -341.7651, Valid Loss: -449.0385\n",
      "Model saved to ==> Data/model.pt\n",
      "Model saved to ==> Data/metrics.pt\n",
      "Epoch [3/10], Step [65/260], Train Loss: -465.0044, Valid Loss: -449.0385\n",
      "Epoch [3/10], Step [78/260], Train Loss: -392.2659, Valid Loss: -449.0385\n",
      "Epoch [4/10], Step [91/260], Train Loss: -472.1179, Valid Loss: -449.0385\n",
      "Epoch [4/10], Step [104/260], Train Loss: -397.1154, Valid Loss: -449.0385\n",
      "Epoch [5/10], Step [117/260], Train Loss: -473.0430, Valid Loss: -449.0385\n",
      "Epoch [5/10], Step [130/260], Train Loss: -397.1154, Valid Loss: -449.0385\n",
      "Epoch [6/10], Step [143/260], Train Loss: -479.1930, Valid Loss: -449.0385\n",
      "Epoch [6/10], Step [156/260], Train Loss: -396.3071, Valid Loss: -449.0385\n",
      "Epoch [7/10], Step [169/260], Train Loss: -478.0329, Valid Loss: -449.0385\n",
      "Epoch [7/10], Step [182/260], Train Loss: -396.3071, Valid Loss: -449.0385\n",
      "Epoch [8/10], Step [195/260], Train Loss: -478.0749, Valid Loss: -449.0385\n",
      "Epoch [8/10], Step [208/260], Train Loss: -397.1154, Valid Loss: -449.0385\n",
      "Epoch [9/10], Step [221/260], Train Loss: -478.0583, Valid Loss: -449.0385\n",
      "Epoch [9/10], Step [234/260], Train Loss: -397.1154, Valid Loss: -449.0385\n",
      "Epoch [10/10], Step [247/260], Train Loss: -479.2906, Valid Loss: -449.0385\n",
      "Epoch [10/10], Step [260/260], Train Loss: -397.1154, Valid Loss: -449.0385\n",
      "Model saved to ==> Data/metrics.pt\n",
      "Finished Training!\n"
     ]
    }
   ],
   "source": [
    "# Training Function\n",
    "\n",
    "def train(model,\n",
    "          optimizer,\n",
    "          criterion = nn.BCELoss(),\n",
    "          train_loader = train_iter,\n",
    "          valid_loader = valid_iter,\n",
    "          num_epochs = 5,\n",
    "          eval_every = len(train_iter) // 2,\n",
    "          file_path = destination_folder,\n",
    "          best_valid_loss = float(\"Inf\")):\n",
    "    \n",
    "    # initialize running values\n",
    "    running_loss = 0.0\n",
    "    valid_running_loss = 0.0\n",
    "    global_step = 0\n",
    "    train_loss_list = []\n",
    "    valid_loss_list = []\n",
    "    global_steps_list = []\n",
    "\n",
    "    # training loop\n",
    "    model.train()\n",
    "    for epoch in range(num_epochs):\n",
    "        for (labels, (text, text_len)), _ in train_loader:           \n",
    "            labels = labels.to(device)\n",
    "            text = text.to(device)\n",
    "            text_len = text_len.to(device)\n",
    "            output = model(text, text_len)\n",
    "\n",
    "            loss = criterion(output, labels)\n",
    "            optimizer.zero_grad()\n",
    "            loss.backward()\n",
    "            optimizer.step()\n",
    "\n",
    "            # update running values\n",
    "            running_loss += loss.item()\n",
    "            global_step += 1\n",
    "\n",
    "            # evaluation step\n",
    "            if global_step % eval_every == 0:\n",
    "                model.eval()\n",
    "                with torch.no_grad():                    \n",
    "                  # validation loop\n",
    "                  for (labels, (text, text_len)), _ in valid_loader:\n",
    "                        labels = labels.to(device)\n",
    "                        text = text.to(device)\n",
    "                        text_len = text_len.to(device)\n",
    "                        output = model(text, text_len)\n",
    "                        \n",
    "                        loss = criterion(output, labels)\n",
    "                        valid_running_loss += loss.item()\n",
    "\n",
    "                # evaluation\n",
    "                average_train_loss = running_loss / eval_every\n",
    "                average_valid_loss = valid_running_loss / len(valid_loader)\n",
    "                train_loss_list.append(average_train_loss)\n",
    "                valid_loss_list.append(average_valid_loss)\n",
    "                global_steps_list.append(global_step)\n",
    "\n",
    "                # resetting running values\n",
    "                running_loss = 0.0                \n",
    "                valid_running_loss = 0.0\n",
    "                model.train()\n",
    "\n",
    "                # print progress\n",
    "                print('Epoch [{}/{}], Step [{}/{}], Train Loss: {:.4f}, Valid Loss: {:.4f}'\n",
    "                      .format(epoch+1, num_epochs, global_step, num_epochs*len(train_loader),\n",
    "                              average_train_loss, average_valid_loss))\n",
    "                \n",
    "                # checkpoint\n",
    "                if best_valid_loss > average_valid_loss:\n",
    "                    best_valid_loss = average_valid_loss\n",
    "                    save_checkpoint(file_path + '/model.pt', model, optimizer, best_valid_loss)\n",
    "                    save_metrics(file_path + '/metrics.pt', train_loss_list, valid_loss_list, global_steps_list)\n",
    "    \n",
    "    save_metrics(file_path + '/metrics.pt', train_loss_list, valid_loss_list, global_steps_list)\n",
    "    print('Finished Training!')\n",
    "\n",
    "\n",
    "model = GRU().to(device)\n",
    "optimizer = optim.Adam(model.parameters(), lr=0.001)\n",
    "\n",
    "train(model=model, optimizer=optimizer, num_epochs=10)"
   ]
  },
  {
   "cell_type": "code",
   "execution_count": 14,
   "id": "3c08b9b6",
   "metadata": {},
   "outputs": [
    {
     "name": "stdout",
     "output_type": "stream",
     "text": [
      "Model loaded from <== Data/metrics.pt\n"
     ]
    },
    {
     "data": {
      "image/png": "[encoded data removed]",
      "text/plain": [
       "<Figure size 432x288 with 1 Axes>"
      ]
     },
     "metadata": {
      "needs_background": "light"
     },
     "output_type": "display_data"
    }
   ],
   "source": [
    "train_loss_list, valid_loss_list, global_steps_list = load_metrics(destination_folder + '/metrics.pt')\n",
    "plt.plot(global_steps_list, train_loss_list, label='Train')\n",
    "plt.plot(global_steps_list, valid_loss_list, label='Valid')\n",
    "plt.xlabel('Epochs')\n",
    "plt.ylabel('Loss')\n",
    "plt.legend()\n",
    "plt.show() "
   ]
  },
  {
   "cell_type": "code",
   "execution_count": 15,
   "id": "ab6f6c38",
   "metadata": {},
   "outputs": [
    {
     "name": "stdout",
     "output_type": "stream",
     "text": [
      "994\n",
      "804\n",
      "90\n",
      "100\n"
     ]
    }
   ],
   "source": [
    "print(len(df_data))\n",
    "print(len(df_train))\n",
    "print(len(df_valid))\n",
    "print(len(df_test))"
   ]
  },
  {
   "cell_type": "code",
   "execution_count": 96,
   "id": "3a154cc8",
   "metadata": {},
   "outputs": [
    {
     "data": {
      "text/plain": [
       "6299"
      ]
     },
     "execution_count": 96,
     "metadata": {},
     "output_type": "execute_result"
    }
   ],
   "source": [
    "631 + 568 + 5100"
   ]
  },
  {
   "cell_type": "code",
   "execution_count": null,
   "id": "47aea615",
   "metadata": {},
   "outputs": [],
   "source": []
  }
 ],
 "metadata": {
  "kernelspec": {
   "display_name": "Python 3",
   "language": "python",
   "name": "python3"
  },
  "language_info": {
   "codemirror_mode": {
    "name": "ipython",
    "version": 3
   },
   "file_extension": ".py",
   "mimetype": "text/x-python",
   "name": "python",
   "nbconvert_exporter": "python",
   "pygments_lexer": "ipython3",
   "version": "3.6.13"
  }
 },
 "nbformat": 4,
 "nbformat_minor": 5
}
