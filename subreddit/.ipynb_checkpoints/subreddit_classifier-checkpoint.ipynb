{
 "cells": [
  {
   "cell_type": "code",
   "execution_count": 1,
   "id": "c0ab2272",
   "metadata": {},
   "outputs": [],
   "source": [
    "import matplotlib.pyplot as plt\n",
    "import numpy as np\n",
    "import pandas as pd\n",
    "import pprint\n",
    "import random\n",
    "import seaborn as sn\n",
    "import time\n",
    "import torch \n",
    "from sklearn.metrics import confusion_matrix\n",
    "from torch import nn\n",
    "from torch.utils.data import DataLoader\n",
    "from torch.utils.data.dataset import random_split\n",
    "from torchtext.data.functional import to_map_style_dataset\n",
    "from torchtext.data.utils import get_tokenizer \n",
    "from torchtext.vocab import build_vocab_from_iterator\n",
    "\n",
    "import train_eval\n",
    "from fetch_db import reddit_data\n",
    "from train_eval import eval_accu, eval_losses, train_accu, train_losses"
   ]
  },
  {
   "cell_type": "code",
   "execution_count": 2,
   "id": "67c2a005",
   "metadata": {},
   "outputs": [],
   "source": [
    "subreddit_labels = {1: \"askhistorians\", 2: \"writingprompts\", \n",
    "                 3: \"television\", 4: \"explainlikeimfive\", \n",
    "                 5: \"lifeprotips\", 6: \"relationship_advice\",\n",
    "                 7: \"science\", 8: \"books\",\n",
    "                 9: \"nba\", 10: \"philosophy\"}"
   ]
  },
  {
   "cell_type": "code",
   "execution_count": 3,
   "id": "2f162d9a",
   "metadata": {},
   "outputs": [],
   "source": [
    "tokenizer = get_tokenizer('basic_english')"
   ]
  },
  {
   "cell_type": "code",
   "execution_count": 4,
   "id": "34d55c68",
   "metadata": {},
   "outputs": [],
   "source": [
    "mod_data = []\n",
    "for i in reddit_data:\n",
    "    title_index = list(subreddit_labels.keys())[list(subreddit_labels.values()).index(i[2])]\n",
    "    mod_data.append((title_index, i[1]))\n",
    "    \n",
    "random.shuffle(mod_data)"
   ]
  },
  {
   "cell_type": "code",
   "execution_count": 5,
   "id": "8c733c8a",
   "metadata": {},
   "outputs": [],
   "source": [
    "train_iter = mod_data[:int(len(mod_data)*0.9)] \n",
    "test_iter = mod_data[int(len(mod_data)*0.9):]"
   ]
  },
  {
   "cell_type": "code",
   "execution_count": 6,
   "id": "72b9f9ed",
   "metadata": {},
   "outputs": [],
   "source": [
    "def yield_tokens(data_iter):\n",
    "    for _, text in data_iter:\n",
    "        yield tokenizer(text)"
   ]
  },
  {
   "cell_type": "code",
   "execution_count": 7,
   "id": "f9edbfd1",
   "metadata": {},
   "outputs": [],
   "source": [
    "vocab = build_vocab_from_iterator(yield_tokens(train_iter), specials=[\"<unk>\"])\n",
    "vocab.set_default_index(vocab[\"<unk>\"])"
   ]
  },
  {
   "cell_type": "code",
   "execution_count": 8,
   "id": "70adcead",
   "metadata": {},
   "outputs": [],
   "source": [
    "text_pipeline = lambda x: vocab(tokenizer(x))\n",
    "label_pipeline = lambda x: int(x) - 1"
   ]
  },
  {
   "cell_type": "code",
   "execution_count": 9,
   "id": "7c1db576",
   "metadata": {},
   "outputs": [],
   "source": [
    "device = torch.device(\"cuda\" if torch.cuda.is_available() else \"cpu\")\n",
    "\n",
    "def collate_batch(batch):\n",
    "    label_list, text_list, offsets = [], [], [0]\n",
    "    for (_label, _text) in batch:\n",
    "        label_list.append(label_pipeline(_label))\n",
    "        processed_text = torch.tensor(text_pipeline(_text), dtype=torch.int64)\n",
    "        text_list.append(processed_text)\n",
    "        offsets.append(processed_text.size(0))\n",
    "    label_list = torch.tensor(label_list, dtype=torch.int64)\n",
    "    offsets = torch.tensor(offsets[:-1]).cumsum(dim=0)\n",
    "    text_list = torch.cat(text_list)\n",
    "    return label_list.to(device), text_list.to(device), offsets.to(device)"
   ]
  },
  {
   "cell_type": "code",
   "execution_count": 10,
   "id": "920dc140",
   "metadata": {},
   "outputs": [],
   "source": [
    "dataloader = DataLoader(train_iter, batch_size=8, shuffle=False, collate_fn=collate_batch)"
   ]
  },
  {
   "cell_type": "code",
   "execution_count": 11,
   "id": "ffe9c0c1",
   "metadata": {},
   "outputs": [],
   "source": [
    "class TextClassificationModel(nn.Module):\n",
    "    \n",
    "    def __init__(self, vocab_size, embed_dim, num_classes):\n",
    "        super(TextClassificationModel, self).__init__()\n",
    "        self.embedding = nn.EmbeddingBag(vocab_size, embed_dim, sparse=True)\n",
    "        self.fc = nn.Linear(embed_dim, num_classes)\n",
    "        self.init_weights()\n",
    "        \n",
    "    def init_weights(self):\n",
    "        initrange = 0.5 \n",
    "        self.embedding.weight.data.uniform_(-initrange, initrange)\n",
    "        self.fc.weight.data.uniform_(-initrange, initrange)\n",
    "        self.fc.bias.data.zero_()\n",
    "        \n",
    "    def forward(self, text, offsets):\n",
    "        embedded = self.embedding(text, offsets)\n",
    "        return self.fc(embedded)"
   ]
  },
  {
   "cell_type": "code",
   "execution_count": 12,
   "id": "ed9d7410",
   "metadata": {},
   "outputs": [],
   "source": [
    "num_class = len(set([label for (label, text) in train_iter]))\n",
    "vocab_size = len(vocab)\n",
    "emsize = 64\n",
    "model = TextClassificationModel(vocab_size, emsize, num_class).to(device)"
   ]
  },
  {
   "cell_type": "code",
   "execution_count": 13,
   "id": "43971c99",
   "metadata": {},
   "outputs": [],
   "source": [
    "evaluate = train_eval.evaluate\n",
    "train = train_eval.train"
   ]
  },
  {
   "cell_type": "code",
   "execution_count": 14,
   "id": "b8abc629",
   "metadata": {},
   "outputs": [],
   "source": [
    "EPOCHS = 10 \n",
    "LR = 5 \n",
    "BATCH_SIZE = 64"
   ]
  },
  {
   "cell_type": "code",
   "execution_count": 15,
   "id": "336a36c7",
   "metadata": {},
   "outputs": [
    {
     "name": "stdout",
     "output_type": "stream",
     "text": [
      "-----------------------------------------------------------\n",
      "| end of epoch   1 | time:  0.40s | valid accuracy    0.704 \n",
      "-----------------------------------------------------------\n",
      "-----------------------------------------------------------\n",
      "| end of epoch   2 | time:  0.38s | valid accuracy    0.849 \n",
      "-----------------------------------------------------------\n",
      "-----------------------------------------------------------\n",
      "| end of epoch   3 | time:  0.38s | valid accuracy    0.933 \n",
      "-----------------------------------------------------------\n",
      "-----------------------------------------------------------\n",
      "| end of epoch   4 | time:  0.38s | valid accuracy    0.972 \n",
      "-----------------------------------------------------------\n",
      "-----------------------------------------------------------\n",
      "| end of epoch   5 | time:  0.37s | valid accuracy    0.994 \n",
      "-----------------------------------------------------------\n",
      "-----------------------------------------------------------\n",
      "| end of epoch   6 | time:  0.37s | valid accuracy    1.000 \n",
      "-----------------------------------------------------------\n",
      "-----------------------------------------------------------\n",
      "| end of epoch   7 | time:  0.37s | valid accuracy    1.000 \n",
      "-----------------------------------------------------------\n",
      "-----------------------------------------------------------\n",
      "| end of epoch   8 | time:  0.36s | valid accuracy    1.000 \n",
      "-----------------------------------------------------------\n",
      "-----------------------------------------------------------\n",
      "| end of epoch   9 | time:  0.37s | valid accuracy    1.000 \n",
      "-----------------------------------------------------------\n",
      "-----------------------------------------------------------\n",
      "| end of epoch  10 | time:  0.36s | valid accuracy    1.000 \n",
      "-----------------------------------------------------------\n"
     ]
    }
   ],
   "source": [
    "criterion = torch.nn.CrossEntropyLoss()\n",
    "optimizer = torch.optim.SGD(model.parameters(), lr=LR)\n",
    "scheduler = torch.optim.lr_scheduler.StepLR(optimizer, 1.0, gamma=0.1)\n",
    "total_accu = None \n",
    "train_dataset = to_map_style_dataset(train_iter)\n",
    "test_dataset = to_map_style_dataset(test_iter)\n",
    "num_train = int(len(train_dataset) * 0.90)\n",
    "split_train_, split_valid_ = \\\n",
    "    random_split(train_dataset, [num_train, len(train_dataset) - num_train])\n",
    "train_dataloader = DataLoader(split_train_, batch_size=BATCH_SIZE,\n",
    "                             shuffle=True, collate_fn=collate_batch)\n",
    "valid_dataloader = DataLoader(split_valid_, batch_size=BATCH_SIZE,\n",
    "                             shuffle=True, collate_fn=collate_batch)\n",
    "test_dataloader = DataLoader(test_dataset, batch_size=BATCH_SIZE,\n",
    "                            shuffle=True, collate_fn=collate_batch)\n",
    "\n",
    "for epoch in range(1, EPOCHS + 1):\n",
    "    epoch_start_time = time.time()\n",
    "    train(dataloader, model, criterion, optimizer, epoch)\n",
    "    accu_val = evaluate(valid_dataloader, model, criterion)\n",
    "    if total_accu is not None and total_accu > accu_val:\n",
    "        scheduler.step()\n",
    "    else:\n",
    "        total_accu = accu_val \n",
    "    print('-' * 59)\n",
    "    print('| end of epoch {:3d} | time: {:5.2f}s | '\n",
    "          'valid accuracy {:8.3f} '.format(epoch,\n",
    "                                           time.time() - epoch_start_time,\n",
    "                                           accu_val))\n",
    "    print('-' * 59)"
   ]
  },
  {
   "cell_type": "code",
   "execution_count": 16,
   "id": "45118af9",
   "metadata": {},
   "outputs": [
    {
     "name": "stdout",
     "output_type": "stream",
     "text": [
      "Checking the results of test dataset.\n",
      "Test accuracy is: 1.000\n"
     ]
    }
   ],
   "source": [
    "print('Checking the results of test dataset.')\n",
    "accu_test = evaluate(test_dataloader, model, criterion)\n",
    "print('Test accuracy is: {:1.3f}'.format(accu_test))"
   ]
  },
  {
   "cell_type": "code",
   "execution_count": 17,
   "id": "3ea7d4e7",
   "metadata": {},
   "outputs": [
    {
     "name": "stdout",
     "output_type": "stream",
     "text": [
      "This is from the 'lifeprotips' subreddit.\n"
     ]
    }
   ],
   "source": [
    "def predict(text, text_pipeline):\n",
    "    with torch.no_grad():\n",
    "        text = torch.tensor(text_pipeline(text))\n",
    "        output = model(text, torch.tensor([0]))\n",
    "        return output.argmax(1).item() + 1\n",
    "\n",
    "# lifeprotips\n",
    "ex_text_str = 'When your spouse is getting ready and the time to leave is approaching. \\\n",
    "               Instead of reminding them they have 5 minutes left, ask them if you can help with anything.'\n",
    "\n",
    "model = model.to(\"cpu\")\n",
    "\n",
    "print(\"This is from the '%s' subreddit.\" %subreddit_labels[predict(ex_text_str, text_pipeline)])"
   ]
  },
  {
   "cell_type": "code",
   "execution_count": 18,
   "id": "02ad5ee2",
   "metadata": {},
   "outputs": [],
   "source": [
    "eval_epochs = len(eval_losses)\n",
    "train_epochs = int((len(train_losses) / eval_epochs) // 1)\n",
    "train_losses_list = []\n",
    "eval_losses_list = eval_losses\n",
    "for i, x in enumerate(train_losses):\n",
    "    if i % train_epochs == 0 and i > 0 and len(train_losses_list) < eval_epochs:\n",
    "        train_losses_list.append(x)"
   ]
  },
  {
   "cell_type": "code",
   "execution_count": 19,
   "id": "e8351157",
   "metadata": {},
   "outputs": [
    {
     "data": {
      "image/png": "[encoded data removed]",
      "text/plain": [
       "<Figure size 432x288 with 1 Axes>"
      ]
     },
     "metadata": {
      "needs_background": "light"
     },
     "output_type": "display_data"
    }
   ],
   "source": [
    "plt.plot(train_losses_list)\n",
    "plt.plot(eval_losses_list)\n",
    "plt.xlabel('epoch')\n",
    "plt.ylabel('Loss')\n",
    "plt.legend(['Train','Valid'])\n",
    "plt.title('Train vs. Validation Loss')\n",
    " \n",
    "plt.show()"
   ]
  },
  {
   "cell_type": "code",
   "execution_count": 20,
   "id": "fa4c364d",
   "metadata": {},
   "outputs": [],
   "source": [
    "eval_epochs = len(eval_accu)\n",
    "train_epochs = int((len(train_accu) / eval_epochs) // 1)\n",
    "train_accu_list = []\n",
    "eval_accu_list = eval_accu\n",
    "for i, x in enumerate(train_accu):\n",
    "    if i % train_epochs == 0 and i > 0 and len(train_accu_list) < eval_epochs:\n",
    "        train_accu_list.append(x)"
   ]
  },
  {
   "cell_type": "code",
   "execution_count": 21,
   "id": "9c0ecb94",
   "metadata": {},
   "outputs": [
    {
     "data": {
      "image/png": "[encoded data removed]",
      "text/plain": [
       "<Figure size 432x288 with 1 Axes>"
      ]
     },
     "metadata": {
      "needs_background": "light"
     },
     "output_type": "display_data"
    }
   ],
   "source": [
    "plt.plot(train_accu_list,'-o')\n",
    "plt.plot(eval_accu,'-o')\n",
    "plt.xlabel('epoch')\n",
    "plt.ylabel('accuracy')\n",
    "plt.legend(['Train','Valid'])\n",
    "plt.title('Train vs. Validation Accuracy')\n",
    " \n",
    "plt.show()"
   ]
  },
  {
   "cell_type": "code",
   "execution_count": 22,
   "id": "7d118ca5",
   "metadata": {},
   "outputs": [
    {
     "name": "stdout",
     "output_type": "stream",
     "text": [
      "['askhistorians', 'writingprompts', 'television', 'explainlikeimfive', 'lifeprotips', 'relationship_advice', 'science', 'books', 'nba', 'philosophy']\n"
     ]
    }
   ],
   "source": [
    "tick_labels = []\n",
    "for i in subreddit_labels:\n",
    "    tick_labels.append(subreddit_labels[i])\n",
    "    \n",
    "print(tick_labels)"
   ]
  },
  {
   "cell_type": "code",
   "execution_count": 23,
   "id": "347e93c1",
   "metadata": {},
   "outputs": [
    {
     "data": {
      "text/plain": [
       "<AxesSubplot:>"
      ]
     },
     "execution_count": 23,
     "metadata": {},
     "output_type": "execute_result"
    },
    {
     "data": {
      "image/png": "[encoded data removed]",
      "text/plain": [
       "<Figure size 864x504 with 2 Axes>"
      ]
     },
     "metadata": {
      "needs_background": "light"
     },
     "output_type": "display_data"
    }
   ],
   "source": [
    "y_pred = []\n",
    "y_true = []\n",
    "\n",
    "for idx, (label, text, offsets) in enumerate(valid_dataloader):\n",
    "    \n",
    "    output = model(text, offsets)\n",
    "    \n",
    "    output = (torch.max(torch.exp(output), 1)[1]).data.cpu().numpy()\n",
    "    y_pred.extend(output)\n",
    "    \n",
    "    labels = label.data.cpu().numpy()\n",
    "    y_true.extend(labels)\n",
    "    \n",
    "cf_matrix = confusion_matrix(y_true, y_pred)\n",
    "df_cm = pd.DataFrame(cf_matrix/np.sum(cf_matrix) *10, index = [i for i in tick_labels],\n",
    "                     columns = [i for i in tick_labels])\n",
    "plt.figure(figsize = (12,7))\n",
    "sn.heatmap(df_cm, annot=True, cmap='Blues')"
   ]
  },
  {
   "cell_type": "code",
   "execution_count": null,
   "id": "3faaac0b",
   "metadata": {},
   "outputs": [],
   "source": []
  }
 ],
 "metadata": {
  "kernelspec": {
   "display_name": "Python 3",
   "language": "python",
   "name": "python3"
  },
  "language_info": {
   "codemirror_mode": {
    "name": "ipython",
    "version": 3
   },
   "file_extension": ".py",
   "mimetype": "text/x-python",
   "name": "python",
   "nbconvert_exporter": "python",
   "pygments_lexer": "ipython3",
   "version": "3.6.13"
  }
 },
 "nbformat": 4,
 "nbformat_minor": 5
}
