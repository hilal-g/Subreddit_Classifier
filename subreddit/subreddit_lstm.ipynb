{
 "cells": [
  {
   "cell_type": "code",
   "execution_count": 1,
   "id": "6cd9d782",
   "metadata": {},
   "outputs": [
    {
     "name": "stderr",
     "output_type": "stream",
     "text": [
      "/Users/Hilal/opt/anaconda3/envs/chatbot/lib/python3.6/site-packages/torchtext/data/utils.py:123: UserWarning: Spacy model \"en\" could not be loaded, trying \"en_core_web_sm\" instead\n",
      "  warnings.warn(f'Spacy model \"{language}\" could not be loaded, trying \"{OLD_MODEL_SHORTCUTS[language]}\" instead')\n"
     ]
    }
   ],
   "source": [
    "import matplotlib.pyplot as plt\n",
    "import torch\n",
    "import torch.nn as nn\n",
    "from torch.nn.utils.rnn import pack_padded_sequence, pad_packed_sequence\n",
    "import torch.optim as optim\n",
    "\n",
    "import save_load\n",
    "import train_nn\n",
    "from fetch_db import reddit_data\n",
    "from pre_nn import text_field, device, destination_folder, df_data, df_train, df_test, df_valid"
   ]
  },
  {
   "cell_type": "code",
   "execution_count": 2,
   "id": "f30017b3",
   "metadata": {},
   "outputs": [],
   "source": [
    "class LSTM(nn.Module):\n",
    "\n",
    "    def __init__(self, dimension=128):\n",
    "        super(LSTM, self).__init__()\n",
    "\n",
    "        self.embedding = nn.Embedding(len(text_field.vocab), 300)\n",
    "        self.dimension = dimension\n",
    "        self.lstm = nn.LSTM(input_size=300,\n",
    "                            hidden_size=dimension,\n",
    "                            num_layers=1,\n",
    "                            batch_first=True,\n",
    "                            bidirectional=True)\n",
    "        self.drop = nn.Dropout(p=0.5)\n",
    "\n",
    "        self.fc = nn.Linear(2*dimension, 1)\n",
    "\n",
    "    def forward(self, text, text_len):\n",
    "\n",
    "        text_emb = self.embedding(text)\n",
    "\n",
    "        packed_input = pack_padded_sequence(text_emb, text_len, batch_first=True, enforce_sorted=False)\n",
    "        packed_output, _ = self.lstm(packed_input)\n",
    "        output, _ = pad_packed_sequence(packed_output, batch_first=True)\n",
    "\n",
    "        out_forward = output[range(len(output)), text_len - 1, :self.dimension]\n",
    "        out_reverse = output[:, 0, self.dimension:]\n",
    "        out_reduced = torch.cat((out_forward, out_reverse), 1)\n",
    "        text_fea = self.drop(out_reduced)\n",
    "\n",
    "        text_fea = self.fc(text_fea)\n",
    "        text_fea = torch.squeeze(text_fea, 1)\n",
    "        text_out = torch.sigmoid(text_fea)\n",
    "\n",
    "        return text_out"
   ]
  },
  {
   "cell_type": "code",
   "execution_count": 3,
   "id": "3bdf63b3",
   "metadata": {},
   "outputs": [
    {
     "name": "stdout",
     "output_type": "stream",
     "text": [
      "Epoch [1/10], Step [13/260], Train Loss: -5.0129, Valid Loss: -17.9803\n",
      "Model saved to ==> Data/model.pt\n",
      "Model saved to ==> Data/metrics.pt\n",
      "Epoch [1/10], Step [26/260], Train Loss: -27.8881, Valid Loss: -46.6885\n",
      "Model saved to ==> Data/model.pt\n",
      "Model saved to ==> Data/metrics.pt\n",
      "Epoch [2/10], Step [39/260], Train Loss: -60.3772, Valid Loss: -71.0004\n",
      "Model saved to ==> Data/model.pt\n",
      "Model saved to ==> Data/metrics.pt\n",
      "Epoch [2/10], Step [52/260], Train Loss: -337.5723, Valid Loss: -448.0769\n",
      "Model saved to ==> Data/model.pt\n",
      "Model saved to ==> Data/metrics.pt\n",
      "Epoch [3/10], Step [65/260], Train Loss: -423.1540, Valid Loss: -448.0769\n",
      "Epoch [3/10], Step [78/260], Train Loss: -471.1538, Valid Loss: -448.0769\n",
      "Epoch [4/10], Step [91/260], Train Loss: -428.2400, Valid Loss: -448.0769\n",
      "Epoch [4/10], Step [104/260], Train Loss: -471.1538, Valid Loss: -448.0769\n",
      "Epoch [5/10], Step [117/260], Train Loss: -428.4420, Valid Loss: -448.0769\n",
      "Epoch [5/10], Step [130/260], Train Loss: -471.1538, Valid Loss: -448.0769\n",
      "Epoch [6/10], Step [143/260], Train Loss: -428.2400, Valid Loss: -448.0769\n",
      "Epoch [6/10], Step [156/260], Train Loss: -471.1538, Valid Loss: -448.0769\n",
      "Epoch [7/10], Step [169/260], Train Loss: -428.2400, Valid Loss: -448.0769\n",
      "Epoch [7/10], Step [182/260], Train Loss: -471.1538, Valid Loss: -448.0769\n",
      "Epoch [8/10], Step [195/260], Train Loss: -428.8462, Valid Loss: -448.0769\n",
      "Epoch [8/10], Step [208/260], Train Loss: -471.1538, Valid Loss: -448.0769\n",
      "Epoch [9/10], Step [221/260], Train Loss: -428.2400, Valid Loss: -448.0769\n",
      "Epoch [9/10], Step [234/260], Train Loss: -470.9518, Valid Loss: -448.0769\n",
      "Epoch [10/10], Step [247/260], Train Loss: -428.8462, Valid Loss: -448.0769\n",
      "Epoch [10/10], Step [260/260], Train Loss: -471.1538, Valid Loss: -448.0769\n",
      "Model saved to ==> Data/metrics.pt\n",
      "Finished Training!\n"
     ]
    }
   ],
   "source": [
    "model = LSTM().to(device)\n",
    "optimizer = optim.Adam(model.parameters(), lr=0.001)\n",
    "\n",
    "train_nn.train(model=model, optimizer=optimizer, num_epochs=10)"
   ]
  },
  {
   "cell_type": "code",
   "execution_count": 4,
   "id": "3c08b9b6",
   "metadata": {},
   "outputs": [
    {
     "name": "stdout",
     "output_type": "stream",
     "text": [
      "Model loaded from <== Data/metrics.pt\n"
     ]
    },
    {
     "data": {
      "image/png": "[encoded data removed]",
      "text/plain": [
       "<Figure size 432x288 with 1 Axes>"
      ]
     },
     "metadata": {
      "needs_background": "light"
     },
     "output_type": "display_data"
    }
   ],
   "source": [
    "train_loss_list, valid_loss_list, global_steps_list = save_load.load_metrics(destination_folder + '/metrics.pt')\n",
    "plt.plot(global_steps_list, train_loss_list, label='Train')\n",
    "plt.plot(global_steps_list, valid_loss_list, label='Valid')\n",
    "plt.xlabel('Epochs')\n",
    "plt.ylabel('Loss')\n",
    "plt.legend()\n",
    "plt.show()"
   ]
  },
  {
   "cell_type": "code",
   "execution_count": 5,
   "id": "ab6f6c38",
   "metadata": {},
   "outputs": [
    {
     "name": "stdout",
     "output_type": "stream",
     "text": [
      "992\n",
      "802\n",
      "90\n",
      "100\n"
     ]
    }
   ],
   "source": [
    "print(len(df_data))\n",
    "print(len(df_train))\n",
    "print(len(df_valid))\n",
    "print(len(df_test))"
   ]
  },
  {
   "cell_type": "code",
   "execution_count": null,
   "id": "414ca17f",
   "metadata": {},
   "outputs": [],
   "source": []
  }
 ],
 "metadata": {
  "kernelspec": {
   "display_name": "Python 3",
   "language": "python",
   "name": "python3"
  },
  "language_info": {
   "codemirror_mode": {
    "name": "ipython",
    "version": 3
   },
   "file_extension": ".py",
   "mimetype": "text/x-python",
   "name": "python",
   "nbconvert_exporter": "python",
   "pygments_lexer": "ipython3",
   "version": "3.6.13"
  }
 },
 "nbformat": 4,
 "nbformat_minor": 5
}
